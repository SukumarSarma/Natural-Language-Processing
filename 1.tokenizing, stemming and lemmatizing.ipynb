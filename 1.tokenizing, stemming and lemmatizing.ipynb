{
 "cells": [
  {
   "cell_type": "code",
   "execution_count": 26,
   "source": [
    "import nltk\r\n",
    "from nltk.stem import PorterStemmer,WordNetLemmatizer\r\n",
    "from nltk.corpus import stopwords"
   ],
   "outputs": [],
   "metadata": {}
  },
  {
   "cell_type": "code",
   "execution_count": 27,
   "source": [
    "paragraph=\"\"\"Darjeeling is a city and a municipality in the Indian state of West Bengal. It is located in the Lesser Himalayas at an elevation of 2,000 metres (6,560 ft).\r\n",
    "           It is noted for its tea industry, its views of the world's third-highest mountain Kangchenjunga, and the Darjeeling Himalayan Railway, a UNESCO World Heritage Site. \r\n",
    "           Darjeeling is the headquarters of the Darjeeling district which has a partially autonomous status called Gorkhaland Territorial Administration within the state of \r\n",
    "           West Bengal. It is also a popular tourist destination in India.\r\n",
    "           The recorded history of the town starts from the early 19th century when the colonial administration under the British Raj set up a sanatorium and a military depot \r\n",
    "           in the region. Subsequently, extensive tea plantations were established in the region and tea growers developed hybrids of black tea and created new fermentation \r\n",
    "           techniques. The resultant distinctive Darjeeling tea is internationally recognised and ranks among the most popular black teas in the world.[6] The Darjeeling \r\n",
    "           Himalayan Railway connects the town with the plains and has some of the few steam locomotives still in service in India.\r\n",
    "           Darjeeling has several British-style private schools, which attract pupils from all over India and a few neighbouring countries. The varied culture of the town \r\n",
    "           reflects its diverse demographic milieu comprising Lepcha, Khampa, Gorkha, Kirati, Newar, Sherpa, Bhutia, Bengali[7] and other mainland Indian ethno-linguistic groups. \r\n",
    "           Darjeeling, alongside its neighbouring town of Kalimpong, was the centre of the Gorkhaland social movement in the 1980s and summer 2017.\"\"\""
   ],
   "outputs": [],
   "metadata": {}
  },
  {
   "cell_type": "code",
   "execution_count": 28,
   "source": [
    "sentences=nltk.sent_tokenize(paragraph)\r\n",
    "print(len(sentences))\r\n",
    "sentences"
   ],
   "outputs": [
    {
     "output_type": "stream",
     "name": "stdout",
     "text": [
      "12\n"
     ]
    },
    {
     "output_type": "execute_result",
     "data": {
      "text/plain": [
       "['Darjeeling is a city and a municipality in the Indian state of West Bengal.',\n",
       " 'It is located in the Lesser Himalayas at an elevation of 2,000 metres (6,560 ft).',\n",
       " \"It is noted for its tea industry, its views of the world's third-highest mountain Kangchenjunga, and the Darjeeling Himalayan Railway, a UNESCO World Heritage Site.\",\n",
       " 'Darjeeling is the headquarters of the Darjeeling district which has a partially autonomous status called Gorkhaland Territorial Administration within the state of \\n           West Bengal.',\n",
       " 'It is also a popular tourist destination in India.',\n",
       " 'The recorded history of the town starts from the early 19th century when the colonial administration under the British Raj set up a sanatorium and a military depot \\n           in the region.',\n",
       " 'Subsequently, extensive tea plantations were established in the region and tea growers developed hybrids of black tea and created new fermentation \\n           techniques.',\n",
       " 'The resultant distinctive Darjeeling tea is internationally recognised and ranks among the most popular black teas in the world.',\n",
       " '[6] The Darjeeling \\n           Himalayan Railway connects the town with the plains and has some of the few steam locomotives still in service in India.',\n",
       " 'Darjeeling has several British-style private schools, which attract pupils from all over India and a few neighbouring countries.',\n",
       " 'The varied culture of the town \\n           reflects its diverse demographic milieu comprising Lepcha, Khampa, Gorkha, Kirati, Newar, Sherpa, Bhutia, Bengali[7] and other mainland Indian ethno-linguistic groups.',\n",
       " 'Darjeeling, alongside its neighbouring town of Kalimpong, was the centre of the Gorkhaland social movement in the 1980s and summer 2017.']"
      ]
     },
     "metadata": {},
     "execution_count": 28
    }
   ],
   "metadata": {}
  },
  {
   "cell_type": "code",
   "execution_count": 22,
   "source": [
    "stemming=PorterStemmer()"
   ],
   "outputs": [],
   "metadata": {}
  },
  {
   "cell_type": "markdown",
   "source": [
    "STEMMING"
   ],
   "metadata": {}
  },
  {
   "cell_type": "code",
   "execution_count": 24,
   "source": [
    "for i in range(len(sentences)):\r\n",
    "    words=nltk.word_tokenize(sentences[i])\r\n",
    "    words=[stemming.stem(word) for word in words if word not in set(stopwords.words('english'))]\r\n",
    "    sentences[i]=' '.join(words)\r\n",
    "sentences"
   ],
   "outputs": [
    {
     "output_type": "execute_result",
     "data": {
      "text/plain": [
       "['darjeel citi municip indian state west bengal .',\n",
       " 'it locat lesser himalaya elev 2,000 metr ( 6,560 ft ) .',\n",
       " \"it note tea industri , view world 's third-highest mountain kangchenjunga , darjeel himalayan railway , unesco world heritag site .\",\n",
       " 'darjeel headquart darjeel district partial autonom statu call gorkhaland territori administr within state west bengal .',\n",
       " 'it also popular tourist destin india .',\n",
       " 'the record histori town start earli 19th centuri coloni administr british raj set sanatorium militari depot region .',\n",
       " 'subsequ , extens tea plantat establish region tea grower develop hybrid black tea creat new ferment techniqu .',\n",
       " 'the result distinct darjeel tea intern recognis rank among popular black tea world .',\n",
       " '[ 6 ] the darjeel himalayan railway connect town plain steam locomot still servic india .',\n",
       " 'darjeel sever british-styl privat school , attract pupil india neighbour countri .',\n",
       " 'the vari cultur town reflect divers demograph milieu compris lepcha , khampa , gorkha , kirati , newar , sherpa , bhutia , bengali [ 7 ] mainland indian ethno-linguist group .',\n",
       " 'darjeel , alongsid neighbour town kalimpong , centr gorkhaland social movement 1980 summer 2017 .']"
      ]
     },
     "metadata": {},
     "execution_count": 24
    }
   ],
   "metadata": {}
  },
  {
   "cell_type": "code",
   "execution_count": 29,
   "source": [
    "lemmatizing=WordNetLemmatizer()"
   ],
   "outputs": [],
   "metadata": {}
  },
  {
   "cell_type": "markdown",
   "source": [
    "LEMMATIZING"
   ],
   "metadata": {}
  },
  {
   "cell_type": "code",
   "execution_count": 30,
   "source": [
    "for i in range(len(sentences)):\r\n",
    "    words=nltk.word_tokenize(sentences[i])\r\n",
    "    words=[lemmatizing.lemmatize(word) for word in words if word not in set(stopwords.words('english'))]\r\n",
    "    sentences[i]=' '.join(words)\r\n",
    "sentences"
   ],
   "outputs": [
    {
     "output_type": "execute_result",
     "data": {
      "text/plain": [
       "['Darjeeling city municipality Indian state West Bengal .',\n",
       " 'It located Lesser Himalayas elevation 2,000 metre ( 6,560 ft ) .',\n",
       " \"It noted tea industry , view world 's third-highest mountain Kangchenjunga , Darjeeling Himalayan Railway , UNESCO World Heritage Site .\",\n",
       " 'Darjeeling headquarters Darjeeling district partially autonomous status called Gorkhaland Territorial Administration within state West Bengal .',\n",
       " 'It also popular tourist destination India .',\n",
       " 'The recorded history town start early 19th century colonial administration British Raj set sanatorium military depot region .',\n",
       " 'Subsequently , extensive tea plantation established region tea grower developed hybrid black tea created new fermentation technique .',\n",
       " 'The resultant distinctive Darjeeling tea internationally recognised rank among popular black tea world .',\n",
       " '[ 6 ] The Darjeeling Himalayan Railway connects town plain steam locomotive still service India .',\n",
       " 'Darjeeling several British-style private school , attract pupil India neighbouring country .',\n",
       " 'The varied culture town reflects diverse demographic milieu comprising Lepcha , Khampa , Gorkha , Kirati , Newar , Sherpa , Bhutia , Bengali [ 7 ] mainland Indian ethno-linguistic group .',\n",
       " 'Darjeeling , alongside neighbouring town Kalimpong , centre Gorkhaland social movement 1980s summer 2017 .']"
      ]
     },
     "metadata": {},
     "execution_count": 30
    }
   ],
   "metadata": {}
  }
 ],
 "metadata": {
  "orig_nbformat": 4,
  "language_info": {
   "name": "python",
   "version": "3.8.1",
   "mimetype": "text/x-python",
   "codemirror_mode": {
    "name": "ipython",
    "version": 3
   },
   "pygments_lexer": "ipython3",
   "nbconvert_exporter": "python",
   "file_extension": ".py"
  },
  "kernelspec": {
   "name": "python3",
   "display_name": "Python 3.8.1 64-bit"
  },
  "interpreter": {
   "hash": "9ca38f495a207c95dbcf041f0d5d38d99addc861e7d368b47449e3e7a9824a44"
  }
 },
 "nbformat": 4,
 "nbformat_minor": 2
}